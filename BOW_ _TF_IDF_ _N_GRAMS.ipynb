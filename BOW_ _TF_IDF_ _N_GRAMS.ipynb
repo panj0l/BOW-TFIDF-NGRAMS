{
  "nbformat": 4,
  "nbformat_minor": 0,
  "metadata": {
    "colab": {
      "name": "BOW | TF-IDF | N-GRAMS.ipynb",
      "provenance": [],
      "collapsed_sections": []
    },
    "kernelspec": {
      "name": "python3",
      "display_name": "Python 3"
    }
  },
  "cells": [
    {
      "cell_type": "code",
      "metadata": {
        "id": "qyOuunNoG3Oo"
      },
      "source": [
        "from google.colab import drive\n",
        "drive.mount('/content/drive')"
      ],
      "execution_count": null,
      "outputs": []
    },
    {
      "cell_type": "code",
      "metadata": {
        "id": "EYsEXyi7bcvh",
        "colab": {
          "base_uri": "https://localhost:8080/",
          "height": 36
        },
        "outputId": "37d14050-b967-4fa5-855f-5785d9c06d83"
      },
      "source": [
        "! pip install sastrawi"
      ],
      "execution_count": null,
      "outputs": [
        {
          "output_type": "stream",
          "text": [
            "Requirement already satisfied: sastrawi in /usr/local/lib/python3.6/dist-packages (1.0.1)\n"
          ],
          "name": "stdout"
        }
      ]
    },
    {
      "cell_type": "code",
      "metadata": {
        "id": "avT9xy0u36O-",
        "colab": {
          "base_uri": "https://localhost:8080/",
          "height": 92
        },
        "outputId": "8b149649-4b30-41a0-8f15-47f346470935"
      },
      "source": [
        "import re, string, unicodedata\n",
        "import nltk\n",
        "from nltk import word_tokenize, sent_tokenize\n",
        "from nltk.corpus import stopwords\n",
        "nltk.download('stopwords')\n",
        "nltk.download('punkt')\n",
        "from functools import reduce\n",
        "from Sastrawi.Stemmer.StemmerFactory import StemmerFactory"
      ],
      "execution_count": null,
      "outputs": [
        {
          "output_type": "stream",
          "text": [
            "[nltk_data] Downloading package stopwords to /root/nltk_data...\n",
            "[nltk_data]   Package stopwords is already up-to-date!\n",
            "[nltk_data] Downloading package punkt to /root/nltk_data...\n",
            "[nltk_data]   Package punkt is already up-to-date!\n"
          ],
          "name": "stdout"
        }
      ]
    },
    {
      "cell_type": "markdown",
      "metadata": {
        "id": "JllkdVmuvaMF"
      },
      "source": [
        "**Preprocessing**"
      ]
    },
    {
      "cell_type": "code",
      "metadata": {
        "id": "Qe7lxe8AB7uE"
      },
      "source": [
        "def parsing(dokumen):\n",
        "    #memisahkan dokumen\n",
        "    step_0 = dokumen.split(':')\n",
        "    #lakukan bagian dari list pertama\n",
        "    step_1 = step_0[1]\n",
        "    #memisahkan dokumen dengan tanda ,\n",
        "    step_2 = step_1.split(',')\n",
        "\n",
        "    step_3 = [name.strip() for name in step_2]\n",
        "    #memecahkan struktur dokumen menjadi komponen-komponen terpisah\n",
        "    dokumen = [name.strip() for name in dokumen.split(':')[1].split(',')]\n",
        "    return dokumen\n",
        "\n",
        "def pemotongan(dokumen):\n",
        "    #menghilangkan angka pada dokumen\n",
        "    dokumen = ''.join([i for i in dokumen if not i.isdigit()])\n",
        "    #menghapus tanda baca pada dokumen\n",
        "    dokumen = re.sub(r'[^\\w]|_',' ',dokumen)\n",
        "    #menghapus karakter aneh misalnya: © atau ∑\n",
        "    dokumen = unicodedata.normalize('NFKD', dokumen).encode('ascii', 'ignore').decode('utf-8', 'ignore')\n",
        "    return dokumen\n",
        "\n",
        "def case_folding(dokumen):\n",
        "    #mengubah tulisan menjadi huruf kecil\n",
        "    dokumen = dokumen.lower()\n",
        "    return dokumen\n",
        "\n",
        "def cleaning(dokumen):\n",
        "    #menghapus link https atau sebagainya pada dokumen misalnya: https://www.suara.com\n",
        "    dokumen = re.sub(r'(?i)\\b((?:https?://|www\\d{0,3}[.]|[a-z0-9.\\-]+[.][a-z]{2,4}/)(?:[^\\s()<>]+|\\(([^\\s()<>]+|(\\([^\\s()<>]+\\)))*\\))+(?:\\(([^\\s()<>]+|(\\([^\\s()<>]+\\)))*\\)|[^\\s`!()\\[\\]{};:\\'\".,<>?«»“”‘’]))', '', dokumen)\n",
        "    return dokumen\n",
        "\n",
        "def duplikat_kata( dokumen):    \n",
        "    #menghapus kata yang duplikat\n",
        "    seen = set()\n",
        "    return ' '.join( seen.add(i) or i for i in dokumen.split() if i not in seen )\n",
        "\n",
        "def kata(dokumen):\n",
        "    dokumen = nltk.word_tokenize(dokumen)\n",
        "    return dokumen\n",
        "\n",
        "def stopword(dokumen):\n",
        "    #kata yang berada pada dokumen akan di filtering sesuai dengan kamus bahasa indonesia\n",
        "    stop_words = set(stopwords.words('indonesian'))\n",
        "    #dokumen akan di tokenize dan disimpan pada variabel word_tokens\n",
        "    word_tokens = word_tokenize(dokumen)\n",
        "    #memfilter kalimat yang tidak penting akan dibuang sesuai dengan kamus bahasa indonesia\n",
        "    filtered_sentence = [w for w in word_tokens if not w in stop_words]\n",
        "    return ' '.join(filtered_sentence)\n",
        "\n",
        "def phrase(dokumen):\n",
        "    #Pada langkah ini saya menerapkan sebuah metode dengan menggunakan join() + split()\n",
        "    # menginisialisasi K \n",
        "    K = 2\n",
        "    # Extraksi frasa di dalam string\n",
        "    # Menggunakan join() + split() \n",
        "    dokumen = ' '.join(dokumen.split()[K:-(K - 1)]) \n",
        "    return dokumen\n",
        "\n",
        "def stemming(dokumen):\n",
        "    #membuat stemmer pada dokumen\n",
        "    factory = StemmerFactory()\n",
        "    stemmer = factory.create_stemmer()\n",
        "    return stemmer.stem(dokumen)\n"
      ],
      "execution_count": null,
      "outputs": []
    },
    {
      "cell_type": "code",
      "metadata": {
        "id": "qkdP3HrAItBc"
      },
      "source": [
        "#memanggil fungsi parsing\n",
        "def parse(dokumen):\n",
        "    dokumen = parsing(dokumen)\n",
        "    return dokumen"
      ],
      "execution_count": null,
      "outputs": []
    },
    {
      "cell_type": "code",
      "metadata": {
        "id": "LGLd0Soy7Z8w"
      },
      "source": [
        "#memanggil beberapa fungsi\n",
        "def preprocessing(dokumen):\n",
        "    dokumen = cleaning(dokumen) \n",
        "    dokumen = case_folding(dokumen)\n",
        "    dokumen = pemotongan(dokumen)\n",
        "    dokumen = stopword(dokumen)\n",
        "    dokumen = phrase(dokumen)\n",
        "    dokumen = stemming(dokumen)\n",
        "    dokumen = duplikat_kata(dokumen)\n",
        "    dokumen = kata(dokumen)\n",
        "    \n",
        "    return dokumen"
      ],
      "execution_count": null,
      "outputs": []
    },
    {
      "cell_type": "markdown",
      "metadata": {
        "id": "qlsccQFyYGLV"
      },
      "source": [
        "Untuk Dokumen, saya menggunakan 2 dokumen\n",
        "\n",
        "Dokumen 1 : Apabila kita jarang mengonsumsi sayuran hijau bisa berakibat tidak baik bagi kesehatan. Pertama, kita rentan terkena penyakit. Kita bisa menderita anemia atau kekurangan darah. Karena kurangnya serat, kita juga mudah mengalami sembelit. Ternyata, jarang mengonsumsi sayuran hijau bisa berbahaya bagi tubuh kita.\n",
        "\n",
        "Dokumen 2 : Sebelum dikonsumsi, sayuran hijau sebaiknya dimasak terlebih dahulu secara benar. Sayuran yang akan dimasak sebaiknya dicuci dan dipotong-potong menurut selera. Sayuran tersebut  jangan dimasak terlalu lama. Jika dimasak terlalu lama, kandungan zat gizinya akan berkurang. Oleh sebab itu, masaklah sayuran hijau secara benar sebelum dikonsumsi."
      ]
    },
    {
      "cell_type": "code",
      "metadata": {
        "id": "BcFXd6qP7i38",
        "colab": {
          "base_uri": "https://localhost:8080/",
          "height": 261
        },
        "outputId": "63b505f9-0583-45be-9c23-ad8ffc7729b5"
      },
      "source": [
        "#Mencetak hasil preprocesing dan parsing\n",
        "dokumen1 = \"https://www.dapurimajinasi.com Apabila kita jarang mengonsumsi sayuran hijau bisa berakibat tidak baik bagi kesehatan. Pertama, kita rentan terkena penyakit. Kita bisa menderita anemia atau kekurangan darah. Karena kurangnya serat, kita juga mudah mengalami sembelit. Ternyata, jarang mengonsumsi sayuran hijau bisa berbahaya bagi tubuh kita.\"\n",
        "dokumen2 = \"https://www.dapurimajinasi.com Sebelum dikonsumsi, sayuran hijau sebaiknya dimasak terlebih dahulu secara benar. Sayuran yang akan dimasak sebaiknya dicuci dan dipotong-potong menurut selera. Sayuran tersebut  jangan dimasak terlalu lama. Jika dimasak terlalu lama, kandungan zat gizinya akan berkurang. Oleh sebab itu, masaklah sayuran hijau secara benar sebelum dikonsumsi.\"\n",
        "all_dokumen = \"https://www.dapurimajinasi.com Apabila kita jarang mengonsumsi sayuran hijau bisa berakibat tidak baik bagi kesehatan. Pertama, kita rentan terkena penyakit. Kita bisa menderita anemia atau kekurangan darah. Karena kurangnya serat, kita juga mudah mengalami sembelit. Ternyata, jarang mengonsumsi sayuran hijau bisa berbahaya bagi tubuh kita. Sebelum dikonsumsi, sayuran hijau sebaiknya dimasak terlebih dahulu secara benar. Sayuran yang akan dimasak sebaiknya dicuci dan dipotong-potong menurut selera. Sayuran tersebut jangan dimasak terlalu lama. Jika dimasak terlalu lama, kandungan zat gizinya akan berkurang. Oleh sebab itu, masaklah sayuran hijau secara benar sebelum dikonsumsi.\"\n",
        "print(\"Hasil Parsing dokumen1 \\n\", parse(dokumen1))\n",
        "print(\"Hasil Parsing dokumen 2\\n\", parse(dokumen2))\n",
        "print(\"Hasil Parsing All_dokumen\\n\", parse(all_dokumen))\n",
        "print(\"Index Term Dokumen 1 \\n\", preprocessing(dokumen1))\n",
        "print(\"Index Term Dokumen 2 \\n\", preprocessing(dokumen2))\n",
        "print(\"All Index Term In Dokumen \\n\", preprocessing(all_dokumen))"
      ],
      "execution_count": null,
      "outputs": [
        {
          "output_type": "stream",
          "text": [
            "Hasil Parsing dokumen1 \n",
            " ['//www.dapurimajinasi.com Apabila kita jarang mengonsumsi sayuran hijau bisa berakibat tidak baik bagi kesehatan. Pertama', 'kita rentan terkena penyakit. Kita bisa menderita anemia atau kekurangan darah. Karena kurangnya serat', 'kita juga mudah mengalami sembelit. Ternyata', 'jarang mengonsumsi sayuran hijau bisa berbahaya bagi tubuh kita.']\n",
            "Hasil Parsing dokumen 2\n",
            " ['//www.dapurimajinasi.com Sebelum dikonsumsi', 'sayuran hijau sebaiknya dimasak terlebih dahulu secara benar. Sayuran yang akan dimasak sebaiknya dicuci dan dipotong-potong menurut selera. Sayuran tersebut  jangan dimasak terlalu lama. Jika dimasak terlalu lama', 'kandungan zat gizinya akan berkurang. Oleh sebab itu', 'masaklah sayuran hijau secara benar sebelum dikonsumsi.']\n",
            "Hasil Parsing All_dokumen\n",
            " ['//www.dapurimajinasi.com Apabila kita jarang mengonsumsi sayuran hijau bisa berakibat tidak baik bagi kesehatan. Pertama', 'kita rentan terkena penyakit. Kita bisa menderita anemia atau kekurangan darah. Karena kurangnya serat', 'kita juga mudah mengalami sembelit. Ternyata', 'jarang mengonsumsi sayuran hijau bisa berbahaya bagi tubuh kita. Sebelum dikonsumsi', 'sayuran hijau sebaiknya dimasak terlebih dahulu secara benar. Sayuran yang akan dimasak sebaiknya dicuci dan dipotong-potong menurut selera. Sayuran tersebut jangan dimasak terlalu lama. Jika dimasak terlalu lama', 'kandungan zat gizinya akan berkurang. Oleh sebab itu', 'masaklah sayuran hijau secara benar sebelum dikonsumsi.']\n",
            "Index Term Dokumen 1 \n",
            " ['sayur', 'hijau', 'akibat', 'sehat', 'rentan', 'kena', 'sakit', 'derita', 'anemia', 'kurang', 'darah', 'serat', 'mudah', 'alami', 'sembelit', 'jarang', 'konsumsi', 'bahaya']\n",
            "Index Term Dokumen 2 \n",
            " ['hijau', 'masak', 'sayur', 'cuci', 'potong', 'selera', 'kandung', 'zat', 'gizi', 'kurang']\n",
            "All Index Term In Dokumen \n",
            " ['sayur', 'hijau', 'akibat', 'sehat', 'rentan', 'kena', 'sakit', 'derita', 'anemia', 'kurang', 'darah', 'serat', 'mudah', 'alami', 'sembelit', 'jarang', 'konsumsi', 'bahaya', 'tubuh', 'masak', 'cuci', 'potong', 'selera', 'kandung', 'zat', 'gizi']\n"
          ],
          "name": "stdout"
        }
      ]
    },
    {
      "cell_type": "markdown",
      "metadata": {
        "id": "gtIymgZAcZbJ"
      },
      "source": [
        "Setelah melakukan preprocessing maka kita mendapatkan hasil preporcessing yang akan menjadi index term atau bag of word. Bag of word merupakan sebuah type atau sekumpuluan index term yang tidak memiliki yang tidak duplikat. Istilahnya yaitu Bag Of Word Representasion."
      ]
    },
    {
      "cell_type": "markdown",
      "metadata": {
        "id": "08K_TrYEu1fs"
      },
      "source": [
        "**Bag Of Word Representasion**"
      ]
    },
    {
      "cell_type": "markdown",
      "metadata": {
        "id": "6Uwt1-jIdXpY"
      },
      "source": [
        "**Dokumen 1 :** Apabila kita jarang mengonsumsi sayuran hijau bisa berakibat tidak baik bagi kesehatan. Pertama, kita rentan terkena penyakit. Kita bisa menderita anemia atau kekurangan darah. Karena kurangnya serat, kita juga mudah mengalami sembelit. Ternyata, jarang mengonsumsi sayuran hijau bisa berbahaya bagi tubuh kita.\n",
        "\n",
        "**Dokumen 2 :** Sebelum dikonsumsi, sayuran hijau sebaiknya dimasak terlebih dahulu secara benar. Sayuran yang akan dimasak sebaiknya dicuci dan dipotong-potong menurut selera. Sayuran tersebut  jangan dimasak terlalu lama. Jika dimasak terlalu lama, kandungan zat gizinya akan berkurang. Oleh sebab itu, masaklah sayuran hijau secara benar sebelum dikonsumsi.\n"
      ]
    },
    {
      "cell_type": "code",
      "metadata": {
        "id": "AaGMA0-OfW-8",
        "colab": {
          "base_uri": "https://localhost:8080/",
          "height": 149
        },
        "outputId": "dedc39ce-2bd5-4979-d217-2c641d44cf9b"
      },
      "source": [
        "print(\"BOW Dokumen 1: \\n\", preprocessing(dokumen1))\n",
        "print(\"BOW Dokumen 2: \\n\", preprocessing(dokumen2))\n",
        "print(\"BOW All Dokumen \\n\", preprocessing(all_dokumen))"
      ],
      "execution_count": null,
      "outputs": [
        {
          "output_type": "stream",
          "text": [
            "BOW Dokumen 1: \n",
            " ['sayur', 'hijau', 'akibat', 'sehat', 'rentan', 'kena', 'sakit', 'derita', 'anemia', 'kurang', 'darah', 'serat', 'mudah', 'alami', 'sembelit', 'jarang', 'konsumsi', 'bahaya']\n",
            "BOW Dokumen 2: \n",
            " ['hijau', 'masak', 'sayur', 'cuci', 'potong', 'selera', 'kandung', 'zat', 'gizi', 'kurang']\n",
            "BOW All Dokumen \n",
            " ['sayur', 'hijau', 'akibat', 'sehat', 'rentan', 'kena', 'sakit', 'derita', 'anemia', 'kurang', 'darah', 'serat', 'mudah', 'alami', 'sembelit', 'jarang', 'konsumsi', 'bahaya', 'tubuh', 'masak', 'cuci', 'potong', 'selera', 'kandung', 'zat', 'gizi']\n"
          ],
          "name": "stdout"
        }
      ]
    },
    {
      "cell_type": "markdown",
      "metadata": {
        "id": "ikzE91Lduv7e"
      },
      "source": [
        "**Term Frequency**\n",
        "\n",
        "**Dokumen 1 :** Apabila kita jarang mengonsumsi sayuran hijau bisa berakibat tidak baik bagi kesehatan. Pertama, kita rentan terkena penyakit. Kita bisa menderita anemia atau kekurangan darah. Karena kurangnya serat, kita juga mudah mengalami sembelit. Ternyata, jarang mengonsumsi sayuran hijau bisa berbahaya bagi tubuh kita."
      ]
    },
    {
      "cell_type": "code",
      "metadata": {
        "id": "Xy8-W-5jvdyv"
      },
      "source": [
        "import pandas as pd\n",
        "import numpy as np\n",
        "import matplotlib.pyplot as plt"
      ],
      "execution_count": null,
      "outputs": []
    },
    {
      "cell_type": "code",
      "metadata": {
        "id": "yE3l36bvve6d",
        "colab": {
          "base_uri": "https://localhost:8080/",
          "height": 796
        },
        "outputId": "0e9cd7bc-d792-4155-9b1b-1d789e04f943"
      },
      "source": [
        "#deklarasikan kolom dan isinya\n",
        "frequency = { 'Dokumen1' : ['sayur', 'hijau', 'akibat', 'sehat', 'rentan', 'kena', 'sakit', 'derita', 'anemia', 'kurang', 'darah', 'serat', 'mudah', 'alami', 'sembelit', 'jarang', 'konsumsi', 'bahaya'],\n",
        "              'Frequency1' : ['2','2','1','1','1','1','1','1','1','2','1','1','1','1','1','2','2','1']\n",
        "}\n",
        "#coloum akan tersimpan pada variabel df\n",
        "df = pd.DataFrame(frequency, columns = ['Dokumen1','Frequency1'])\n",
        "#mencetak tabel dengan variabel df dan index bernilai False\n",
        "print (df.to_string(index=False))\n",
        "print(\"\\n\")\n",
        "#deklarasikan nilai data\n",
        "data = {'sayur':2, 'hijau':2, 'akibat':1, 'sehat':1, 'rentan':1, 'kena':1, 'sakit':1, 'derita':1, 'anemia':1, 'kurang':2, 'darah':1, 'serat':1, 'mudah':1, 'alami':1, 'sembelit':1, 'jarang':2, 'konsumsi':2, 'bahaya':1} \n",
        "Kata = list(data.keys()) \n",
        "Banyak = list(data.values()) \n",
        "#membuat ukuran lebar dan tinggi plot bar\n",
        "fig = plt.figure(figsize = (20, 6)) \n",
        "  \n",
        "# membuat plot bar\n",
        "plt.bar(Kata, Banyak, color ='blue',  width = 0.4) \n",
        "plt.xlabel(\"Frequency\") \n",
        "plt.ylabel(\"Term\") \n",
        "plt.title(\"Term Frequency Dokumen 1\") \n",
        "plt.show() "
      ],
      "execution_count": null,
      "outputs": [
        {
          "output_type": "stream",
          "text": [
            " Dokumen1 Frequency1\n",
            "    sayur          2\n",
            "    hijau          2\n",
            "   akibat          1\n",
            "    sehat          1\n",
            "   rentan          1\n",
            "     kena          1\n",
            "    sakit          1\n",
            "   derita          1\n",
            "   anemia          1\n",
            "   kurang          2\n",
            "    darah          1\n",
            "    serat          1\n",
            "    mudah          1\n",
            "    alami          1\n",
            " sembelit          1\n",
            "   jarang          2\n",
            " konsumsi          2\n",
            "   bahaya          1\n",
            "\n",
            "\n"
          ],
          "name": "stdout"
        },
        {
          "output_type": "display_data",
          "data": {
            "image/png": "[encoded data removed]",
            "text/plain": [
              "<Figure size 1440x432 with 1 Axes>"
            ]
          },
          "metadata": {
            "tags": [],
            "needs_background": "light"
          }
        }
      ]
    },
    {
      "cell_type": "markdown",
      "metadata": {
        "id": "rmXUSvfbuQXk"
      },
      "source": [
        "**Dokumen 2 :** Sebelum dikonsumsi, sayuran hijau sebaiknya dimasak terlebih dahulu secara benar. Sayuran yang akan dimasak sebaiknya dicuci dan dipotong-potong menurut selera. Sayuran tersebut  jangan dimasak terlalu lama. Jika dimasak terlalu lama, kandungan zat gizinya akan berkurang. Oleh sebab itu, masaklah sayuran hijau secara benar sebelum dikonsumsi."
      ]
    },
    {
      "cell_type": "code",
      "metadata": {
        "id": "wZfTW7KdaCw1",
        "colab": {
          "base_uri": "https://localhost:8080/",
          "height": 647
        },
        "outputId": "6a1761e2-ffb9-40b5-fb2b-17de03f3d9e6"
      },
      "source": [
        "#deklarasikan kolom dan isinya\n",
        "frequencyy = {'Dokumen2' : ['hijau', 'masak', 'sayur', 'cuci', 'potong', 'selera', 'kandung', 'zat', 'gizi', 'kurang'],\n",
        "              'Frequency2' : ['2','5','4','1','2','1','1','1','1','1']\n",
        "}\n",
        "#coloum akan tersimpan pada variabel df\n",
        "df = pd.DataFrame(frequencyy, columns = ['Dokumen2','Frequency2'])\n",
        "#mencetak tabel dengan variabel df dan index bernilai False\n",
        "print (df.to_string(index=False))\n",
        "print(\"\\n\")\n",
        "#deklarasikan nilai data\n",
        "data = {'hijau':2, 'masak':5, 'sayur':4, 'cuci':1, 'potong':2, 'selera':1, 'kandung':1, 'zat':1, 'gizi':1, 'kurang':1} \n",
        "Kataa = list(data.keys()) \n",
        "Banyakk = list(data.values()) \n",
        "#membuat ukuran lebar dan tinggi plot bar\n",
        "fig = plt.figure(figsize = (20, 6)) \n",
        "  \n",
        "# membuat plot bar\n",
        "plt.bar(Kataa, Banyakk, color ='blue',  width = 0.4) \n",
        "plt.xlabel(\"Frequency\") \n",
        "plt.ylabel(\"Term\") \n",
        "plt.title(\"Term Frequency Dokumen 2\") \n",
        "plt.show()"
      ],
      "execution_count": null,
      "outputs": [
        {
          "output_type": "stream",
          "text": [
            "Dokumen2 Frequency2\n",
            "   hijau          2\n",
            "   masak          5\n",
            "   sayur          4\n",
            "    cuci          1\n",
            "  potong          2\n",
            "  selera          1\n",
            " kandung          1\n",
            "     zat          1\n",
            "    gizi          1\n",
            "  kurang          1\n",
            "\n",
            "\n"
          ],
          "name": "stdout"
        },
        {
          "output_type": "display_data",
          "data": {
            "image/png": "[encoded data removed]",
            "text/plain": [
              "<Figure size 1440x432 with 1 Axes>"
            ]
          },
          "metadata": {
            "tags": [],
            "needs_background": "light"
          }
        }
      ]
    },
    {
      "cell_type": "markdown",
      "metadata": {
        "id": "LtTqy9fnt1Yn"
      },
      "source": [
        "**Inverse Document Frequency**\n",
        "\n",
        "**Dokumen 1 :** Apabila kita jarang mengonsumsi sayuran hijau bisa berakibat tidak baik bagi kesehatan. Pertama, kita rentan terkena penyakit. Kita bisa menderita anemia atau kekurangan darah. Karena kurangnya serat, kita juga mudah mengalami sembelit. Ternyata, jarang mengonsumsi sayuran hijau bisa berbahaya bagi tubuh kita.\n",
        "\n",
        "**Dokumen 2 :** Sebelum dikonsumsi, sayuran hijau sebaiknya dimasak terlebih dahulu secara benar. Sayuran yang akan dimasak sebaiknya dicuci dan dipotong-potong menurut selera. Sayuran tersebut  jangan dimasak terlalu lama. Jika dimasak terlalu lama, kandungan zat gizinya akan berkurang. Oleh sebab itu, masaklah sayuran hijau secara benar sebelum dikonsumsi."
      ]
    },
    {
      "cell_type": "markdown",
      "metadata": {
        "id": "7lhKdNuo1V-H"
      },
      "source": [
        "**Rumus**\n",
        "\n",
        "![image.png](data:image/png;base64,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)"
      ]
    },
    {
      "cell_type": "code",
      "metadata": {
        "id": "yMaY9yY8JmNI"
      },
      "source": [
        "import math"
      ],
      "execution_count": null,
      "outputs": []
    },
    {
      "cell_type": "code",
      "metadata": {
        "id": "JSfVMYLww6UQ",
        "colab": {
          "base_uri": "https://localhost:8080/",
          "height": 110
        },
        "outputId": "ced313e0-700b-440f-f693-4dee19a8c2b8"
      },
      "source": [
        "#Saya mengikuti sesuai di materi kuliah saya mencoba 1+log(4/3) hasilnya tidak 1,12 maka dari itu\n",
        "#Saya menggunakan Basis 10 logaritma dari x, (x > 0).\n",
        "#misalkan kita ingin mencari\n",
        "#IDF(sayur)\n",
        "idf_sayur = 1 + math.log10(6.0/2.0)\n",
        "print(\"IDF(sayur):\",idf_sayur)\n",
        "#IDF(hijau)\n",
        "idf_hijau = 1 + math.log10(4.0/2.0)\n",
        "print(\"IDF(hijau):\",idf_hijau)\n",
        "#IDF(kurang)\n",
        "idf_kurang = 1 + math.log10(3.0/2.0)\n",
        "print(\"IDF(kurang):\",idf_kurang)\n",
        "#IDF(masak)\n",
        "idf_masak = 1 + math.log10(5.0/1.0)\n",
        "print(\"IDF(masak):\",idf_masak)\n",
        "#IDF(konsumsi)\n",
        "idf_konsumsi = 1 + math.log10(4.0/2.0)\n",
        "print(\"IDF(konsumsi):\",idf_konsumsi)"
      ],
      "execution_count": null,
      "outputs": [
        {
          "output_type": "stream",
          "text": [
            "IDF(sayur): 1.4771212547196624\n",
            "IDF(hijau): 1.3010299956639813\n",
            "IDF(kurang): 1.1760912590556813\n",
            "IDF(masak): 1.6989700043360187\n",
            "IDF(konsumsi): 1.3010299956639813\n"
          ],
          "name": "stdout"
        }
      ]
    },
    {
      "cell_type": "markdown",
      "metadata": {
        "id": "dOTIYLVB67vH"
      },
      "source": [
        "**TF-IDF**\n",
        "\n",
        "untuk **Dokumen 1**"
      ]
    },
    {
      "cell_type": "code",
      "metadata": {
        "id": "0VUZgzo0661P",
        "colab": {
          "base_uri": "https://localhost:8080/",
          "height": 110
        },
        "outputId": "630ea0bc-3a0e-4ba9-c871-3aaaef3cd276"
      },
      "source": [
        "#contoh.\n",
        "#menghitung tfidf \n",
        "#TFIDF sayur pada dokumen 1\n",
        "tfidf_sayur = 2.0 * 1.47\n",
        "print(\"TF-IDF(sayur):\",tfidf_sayur)\n",
        "\n",
        "#TFIDF hijau pada dokumen 1\n",
        "tfidf_hijau = 2.0 * 1.30\n",
        "print(\"TF-IDF(hijau):\",tfidf_hijau)\n",
        "\n",
        "#TFIDF kurang pada dokumen 1\n",
        "tfidf_kurang = 2.0 * 1.17\n",
        "print(\"TF-IDF(kurang):\",tfidf_kurang)\n",
        "\n",
        "#TFIDF masak pada dokumen 1\n",
        "tfidf_masak = 0.0 * 1.69\n",
        "print(\"TF-IDF(masak):\",tfidf_masak)\n",
        "\n",
        "#TFIDF konsumsi pada dokumen 1\n",
        "tfidf_konsumsi = 2.0 * 1.17\n",
        "print(\"TF-IDF(konsumsi):\",tfidf_konsumsi)"
      ],
      "execution_count": null,
      "outputs": [
        {
          "output_type": "stream",
          "text": [
            "TF-IDF(sayur): 2.94\n",
            "TF-IDF(hijau): 2.6\n",
            "TF-IDF(kurang): 2.34\n",
            "TF-IDF(masak): 0.0\n",
            "TF-IDF(konsumsi): 2.34\n"
          ],
          "name": "stdout"
        }
      ]
    },
    {
      "cell_type": "markdown",
      "metadata": {
        "id": "LTQGILK_-Ixw"
      },
      "source": [
        "untuk **Dokumen 2**"
      ]
    },
    {
      "cell_type": "code",
      "metadata": {
        "id": "B0Y2W5R9-HtG",
        "colab": {
          "base_uri": "https://localhost:8080/",
          "height": 110
        },
        "outputId": "a5e9ddf9-9f4b-4072-d2f2-bc05623d7f1e"
      },
      "source": [
        "#contoh.\n",
        "#menghitung tfidf \n",
        "#TFIDF sayur pada dokumen 2\n",
        "tfidf_sayur = 4.0 * 1.47\n",
        "print(\"TF-IDF(sayur):\",tfidf_sayur)\n",
        "\n",
        "#TFIDF hijau pada dokumen 2\n",
        "tfidf_hijau = 2.0 * 1.30\n",
        "print(\"TF-IDF(hijau):\",tfidf_hijau)\n",
        "\n",
        "#TFIDF kurang pada dokumen 2\n",
        "tfidf_kurang = 1.0 * 1.17\n",
        "print(\"TF-IDF(kurang):\",tfidf_kurang)\n",
        "\n",
        "#TFIDF masak pada dokumen 2\n",
        "tfidf_masak = 5.0 * 1.69\n",
        "print(\"TF-IDF(masak):\",tfidf_masak)\n",
        "\n",
        "#TFIDF konsumsi pada dokumen 2\n",
        "tfidf_konsumsi = 2.0 * 1.17\n",
        "print(\"TF-IDF(konsumsi):\",tfidf_konsumsi)"
      ],
      "execution_count": null,
      "outputs": [
        {
          "output_type": "stream",
          "text": [
            "TF-IDF(sayur): 5.88\n",
            "TF-IDF(hijau): 2.6\n",
            "TF-IDF(kurang): 1.17\n",
            "TF-IDF(masak): 8.45\n",
            "TF-IDF(konsumsi): 2.34\n"
          ],
          "name": "stdout"
        }
      ]
    },
    {
      "cell_type": "markdown",
      "metadata": {
        "id": "24dbBYxfDDL4"
      },
      "source": [
        "**TFIDF For All Term In Document**\n",
        "\n",
        "TFIDF dari BOW"
      ]
    },
    {
      "cell_type": "code",
      "metadata": {
        "id": "85VL68SXDICz",
        "colab": {
          "base_uri": "https://localhost:8080/",
          "height": 74
        },
        "outputId": "87793d3b-395a-4333-a5ec-63b53f0aba2e"
      },
      "source": [
        "print(\"All Index Term In Dokumen: \\n\", preprocessing(all_dokumen))"
      ],
      "execution_count": null,
      "outputs": [
        {
          "output_type": "stream",
          "text": [
            "All Index Term In Dokumen: \n",
            " ['sayur', 'hijau', 'akibat', 'sehat', 'rentan', 'kena', 'sakit', 'derita', 'anemia', 'kurang', 'darah', 'serat', 'mudah', 'alami', 'sembelit', 'jarang', 'konsumsi', 'bahaya', 'tubuh', 'masak', 'cuci', 'potong', 'selera', 'kandung', 'zat', 'gizi']\n"
          ],
          "name": "stdout"
        }
      ]
    },
    {
      "cell_type": "code",
      "metadata": {
        "id": "q7sn5AFkFh5G",
        "colab": {
          "base_uri": "https://localhost:8080/",
          "height": 36
        },
        "outputId": "2a474d60-929f-4beb-fa82-25a112febc74"
      },
      "source": [
        "index_term = 'sayur, hijau, akibat ,sehat, rentan, kena, sakit, derita, anemia, kurang, darah, serat, mudah, alami, sembelit, jarang, konsumsi, bahaya, tubuh, masak, cuci, potong, selera, kandung, zat, gizi'\n",
        "# menggunakan fungsi split\n",
        "res = len(index_term.split())\n",
        "print (\"Total Index Term In All Document: \" + str(res))"
      ],
      "execution_count": null,
      "outputs": [
        {
          "output_type": "stream",
          "text": [
            "Total Index Term In All Document: 26\n"
          ],
          "name": "stdout"
        }
      ]
    },
    {
      "cell_type": "markdown",
      "metadata": {
        "id": "Szd3F3QKIJy9"
      },
      "source": [
        "**Dokumen 1 :** Apabila kita jarang mengonsumsi sayuran hijau bisa berakibat tidak baik bagi kesehatan. Pertama, kita rentan terkena penyakit. Kita bisa menderita anemia atau kekurangan darah. Karena kurangnya serat, kita juga mudah mengalami sembelit. Ternyata, jarang mengonsumsi sayuran hijau bisa berbahaya bagi tubuh kita."
      ]
    },
    {
      "cell_type": "code",
      "metadata": {
        "id": "Xp-tQbpNH41O",
        "colab": {
          "base_uri": "https://localhost:8080/",
          "height": 503
        },
        "outputId": "0ee2e0ff-0bbc-44d9-884c-50d03d2a7b40"
      },
      "source": [
        "#menghitung TFIDF untuk all index term pada dokumen 1\n",
        "#TF-IDF(sayur,d1)\n",
        "tfidfalld1_sayur = 2.0 * 1.47\n",
        "print(\"TF-IDF(sayur,d1):\",tfidfalld1_sayur)\n",
        "#TF-IDF(hijau,d1)\n",
        "tfidfalld1_hijau = 2.0 * 1.30\n",
        "print(\"TF-IDF(hijau,d1):\",tfidfalld1_hijau)\n",
        "#TF-IDF(akibat,d1)\n",
        "tfidfalld1_akibat = 1.0 * 1.0\n",
        "print(\"TF-IDF(akibat,d1):\",tfidfalld1_akibat)\n",
        "#TF-IDF(sehat,d1)\n",
        "tfidfalld1_sehat = 1.0 * 1.0\n",
        "print(\"TF-IDF(sehat,d1):\",tfidfalld1_sehat)\n",
        "#TF-IDF(rentan,d1)\n",
        "tfidfalld1_rentan = 1.0 * 1.0\n",
        "print(\"TF-IDF(rentan,d1):\",tfidfalld1_rentan)\n",
        "#TF-IDF(kena,d1)\n",
        "tfidfalld1_kena = 1.0 * 1.0\n",
        "print(\"TF-IDF(kena,d1):\",tfidfalld1_kena)\n",
        "#TF-IDF(sakit,d1)\n",
        "tfidfalld1_sakit = 1.0 * 1.0\n",
        "print(\"TF-IDF(sakit,d1):\",tfidfalld1_sakit)\n",
        "#TF-IDF(derita,d1)\n",
        "tfidfalld1_derita = 1.0 * 1.0\n",
        "print(\"TF-IDF(derita,d1):\",tfidfalld1_derita)\n",
        "#TF-IDF(anemia,d1)\n",
        "tfidfalld1_anemia = 1.0 * 1.0\n",
        "print(\"TF-IDF(anemia,d1):\",tfidfalld1_anemia)\n",
        "#TF-IDF(kurang,d1)\n",
        "tfidfalld1_kurang = 2.0 * 1.17\n",
        "print(\"TF-IDF(kurang,d1):\",tfidfalld1_kurang)\n",
        "#TF-IDF(darah,d1)\n",
        "tfidfalld1_darah = 1.0 * 1.0\n",
        "print(\"TF-IDF(darah,d1):\",tfidfalld1_darah)\n",
        "#TF-IDF(serat,d1)\n",
        "tfidfalld1_serat = 1.0 * 1.0\n",
        "print(\"TF-IDF(serat,d1):\",tfidfalld1_serat)\n",
        "#TF-IDF(mudah,d1)\n",
        "tfidfalld1_mudah = 1.0 * 1.0\n",
        "print(\"TF-IDF(mudah,d1):\",tfidfalld1_mudah)\n",
        "#TF-IDF(alami,d1)\n",
        "tfidfalld1_alami = 1.0 * 1.0\n",
        "print(\"TF-IDF(alami,d1):\",tfidfalld1_alami)\n",
        "#TF-IDF(sembelit,d1)\n",
        "tfidfalld1_sembelit = 1.0 * 1.0\n",
        "print(\"TF-IDF(sembelit,d1):\",tfidfalld1_sembelit)\n",
        "#TF-IDF(jarang,d1)\n",
        "tfidfalld1_jarang = 2.0 * 1.30\n",
        "print(\"TF-IDF(jarang,d1):\",tfidfalld1_jarang)\n",
        "#TF-IDF(konsumsi,d1)\n",
        "tfidfalld1_konsumsi = 2.0 * 1.30\n",
        "print(\"TF-IDF(konsumsi,d1):\",tfidfalld1_konsumsi)\n",
        "#TF-IDF(bahaya,d1)\n",
        "tfidfalld1_bahaya = 1.0 * 1.0\n",
        "print(\"TF-IDF(bahaya,d1):\",tfidfalld1_bahaya)\n",
        "#TF-IDF(tubuh,d1)\n",
        "tfidfalld1_tubuh = 1.0 * 1.0\n",
        "print(\"TF-IDF(tubuh,d1):\",tfidfalld1_tubuh)\n",
        "#TF-IDF(masak,d1)\n",
        "tfidfalld1_masak = 0 * 1.69\n",
        "print(\"TF-IDF(masak,d1):\",tfidfalld1_masak)\n",
        "#TF-IDF(cuci,d1)\n",
        "tfidfalld1_cuci = 0 * 1.0\n",
        "print(\"TF-IDF(cuci,d1):\",tfidfalld1_cuci)\n",
        "#TF-IDF(potong,d1)\n",
        "tfidfalld1_potong = 0 * 1.30\n",
        "print(\"TF-IDF(potong,d1):\",tfidfalld1_potong)\n",
        "#TF-IDF(selera,d1)\n",
        "tfidfalld1_selera = 0 * 1.0\n",
        "print(\"TF-IDF(selera,d1):\",tfidfalld1_selera)\n",
        "#TF-IDF(kandung,d1)\n",
        "tfidfalld1_kandung = 0 * 1.0\n",
        "print(\"TF-IDF(kandung,d1):\",tfidfalld1_kandung)\n",
        "#TF-IDF(zat,d1)\n",
        "tfidfalld1_zat = 0 * 1.0\n",
        "print(\"TF-IDF(zat,d1):\",tfidfalld1_zat)\n",
        "#TF-IDF(gizi,d1)\n",
        "tfidfalld1_gizi = 0 * 1.0\n",
        "print(\"TF-IDF(gizi,d1):\",tfidfalld1_gizi)"
      ],
      "execution_count": null,
      "outputs": [
        {
          "output_type": "stream",
          "text": [
            "TF-IDF(sayur,d1): 2.94\n",
            "TF-IDF(hijau,d1): 2.6\n",
            "TF-IDF(akibat,d1): 1.0\n",
            "TF-IDF(sehat,d1): 1.0\n",
            "TF-IDF(rentan,d1): 1.0\n",
            "TF-IDF(kena,d1): 1.0\n",
            "TF-IDF(sakit,d1): 1.0\n",
            "TF-IDF(derita,d1): 1.0\n",
            "TF-IDF(anemia,d1): 1.0\n",
            "TF-IDF(kurang,d1): 2.34\n",
            "TF-IDF(darah,d1): 1.0\n",
            "TF-IDF(serat,d1): 1.0\n",
            "TF-IDF(mudah,d1): 1.0\n",
            "TF-IDF(alami,d1): 1.0\n",
            "TF-IDF(sembelit,d1): 1.0\n",
            "TF-IDF(jarang,d1): 2.6\n",
            "TF-IDF(konsumsi,d1): 2.6\n",
            "TF-IDF(bahaya,d1): 1.0\n",
            "TF-IDF(tubuh,d1): 1.0\n",
            "TF-IDF(masak,d1): 0.0\n",
            "TF-IDF(cuci,d1): 0.0\n",
            "TF-IDF(potong,d1): 0.0\n",
            "TF-IDF(selera,d1): 0.0\n",
            "TF-IDF(kandung,d1): 0.0\n",
            "TF-IDF(zat,d1): 0.0\n",
            "TF-IDF(gizi,d1): 0.0\n"
          ],
          "name": "stdout"
        }
      ]
    },
    {
      "cell_type": "markdown",
      "metadata": {
        "id": "uphsCAgPhk05"
      },
      "source": [
        "**Dokumen 2** : Sebelum dikonsumsi, sayuran hijau sebaiknya dimasak terlebih dahulu secara benar. Sayuran yang akan dimasak sebaiknya dicuci dan dipotong-potong menurut selera. Sayuran tersebut  jangan dimasak terlalu lama. Jika dimasak terlalu lama, kandungan zat gizinya akan berkurang. Oleh sebab itu, masaklah sayuran hijau secara benar sebelum dikonsumsi."
      ]
    },
    {
      "cell_type": "code",
      "metadata": {
        "id": "j4GA772zh2LM",
        "colab": {
          "base_uri": "https://localhost:8080/",
          "height": 503
        },
        "outputId": "f646db0c-3ab0-4a7f-d99d-20814e1c0685"
      },
      "source": [
        "#menghitung TFIDF untuk all index term pada dokumen 2\n",
        "#TF-IDF(sayur,d2)\n",
        "tfidfalld2_sayur = 4.0 * 1.47\n",
        "print(\"TF-IDF(sayur,d2):\",tfidfalld2_sayur)\n",
        "#TF-IDF(hijau,d2)\n",
        "tfidfalld2_hijau = 2.0 * 1.30\n",
        "print(\"TF-IDF(hijau,d2):\",tfidfalld2_hijau)\n",
        "#TF-IDF(akibat,d2)\n",
        "tfidfalld2_akibat = 0 * 1.0\n",
        "print(\"TF-IDF(akibat,d2):\",tfidfalld2_akibat)\n",
        "#TF-IDF(sehat,d2)\n",
        "tfidfalld2_sehat = 0 * 1.0\n",
        "print(\"TF-IDF(sehat,d2):\",tfidfalld2_sehat)\n",
        "#TF-IDF(rentan,d2)\n",
        "tfidfalld2_rentan = 0 * 1.0 \n",
        "print(\"TF-IDF(rentan,d2):\",tfidfalld2_rentan)\n",
        "#TF-IDF(kena,d2)\n",
        "tfidfalld2_kena = 0 * 1.0\n",
        "print(\"TF-IDF(kena,d2):\",tfidfalld2_kena)\n",
        "#TF-IDF(sakit,d2)\n",
        "tfidfalld2_sakit = 0 * 1.0\n",
        "print(\"TF-IDF(sakit,d2):\",tfidfalld2_sakit)\n",
        "#TF-IDF(derita,d2)\n",
        "tfidfalld2_derita = 0 * 1.0\n",
        "print(\"TF-IDF(derita,d2):\",tfidfalld2_derita)\n",
        "#TF-IDF(anemia,d2)\n",
        "tfidfalld2_anemia = 0 * 1.0\n",
        "print(\"TF-IDF(anemia,d2):\",tfidfalld2_anemia)\n",
        "#TF-IDF(kurang,d2)\n",
        "tfidfalld2_kurang = 1.0 * 1.17\n",
        "print(\"TF-IDF(kurang,d2):\",tfidfalld2_kurang)\n",
        "#TF-IDF(darah,d2)\n",
        "tfidfalld2_darah = 0 * 1.0\n",
        "print(\"TF-IDF(darah,d2):\",tfidfalld2_darah)\n",
        "#TF-IDF(serat,d2)\n",
        "tfidfalld2_serat = 0 * 1.0\n",
        "print(\"TF-IDF(serat,d2):\",tfidfalld2_serat)\n",
        "#TF-IDF(mudah,d2)\n",
        "tfidfalld2_mudah = 0 * 1.0\n",
        "print(\"TF-IDF(mudah,d2):\",tfidfalld2_mudah)\n",
        "#TF-IDF(alami,d2)\n",
        "tfidfalld2_alami = 0 * 1.0\n",
        "print(\"TF-IDF(alami,d2):\",tfidfalld2_alami)\n",
        "#TF-IDF(sembelit,d2)\n",
        "tfidfalld2_sembelit = 0 * 1.0\n",
        "print(\"TF-IDF(sembelit,d2):\",tfidfalld2_sembelit)\n",
        "#TF-IDF(jarang,d2)\n",
        "tfidfalld2_jarang = 0 * 1.30\n",
        "print(\"TF-IDF(jarang,d2):\",tfidfalld2_jarang)\n",
        "#TF-IDF(konsumsi,d2)\n",
        "tfidfalld2_konsumsi = 2.0 * 1.30\n",
        "print(\"TF-IDF(konsumsi,d2):\",tfidfalld2_konsumsi)\n",
        "#TF-IDF(bahaya,d2)\n",
        "tfidfalld2_bahaya = 0 * 1.0\n",
        "print(\"TF-IDF(bahaya,d2):\",tfidfalld2_bahaya)\n",
        "#TF-IDF(tubuh,d2)\n",
        "tfidfalld2_tubuh = 0 * 1.0\n",
        "print(\"TF-IDF(tubuh,d2):\",tfidfalld2_tubuh)\n",
        "#TF-IDF(masak,d2)\n",
        "tfidfalld2_masak = 5.0 * 1.69\n",
        "print(\"TF-IDF(masak,d2):\",tfidfalld2_masak)\n",
        "#TF-IDF(cuci,d2)\n",
        "tfidfalld2_cuci = 1.0 * 1.0\n",
        "print(\"TF-IDF(cuci,d2):\",tfidfalld2_cuci)\n",
        "#TF-IDF(potong,d2)\n",
        "tfidfalld2_potong = 2.0 * 1.30\n",
        "print(\"TF-IDF(potong,d2):\",tfidfalld2_potong)\n",
        "#TF-IDF(selera,d1)\n",
        "tfidfalld2_selera = 1.0 * 1.0\n",
        "print(\"TF-IDF(selera,d2):\",tfidfalld2_selera)\n",
        "#TF-IDF(kandung,d2)\n",
        "tfidfalld2_kandung = 1.0 * 1.0\n",
        "print(\"TF-IDF(kandung,d2):\",tfidfalld2_kandung)\n",
        "#TF-IDF(zat,d2)\n",
        "tfidfalld2_zat = 1.0 * 1.0\n",
        "print(\"TF-IDF(zat,d2):\",tfidfalld2_zat)\n",
        "#TF-IDF(gizi,d2)\n",
        "tfidfalld2_gizi = 1.0 * 1.0\n",
        "print(\"TF-IDF(gizi,d2):\",tfidfalld2_gizi)"
      ],
      "execution_count": null,
      "outputs": [
        {
          "output_type": "stream",
          "text": [
            "TF-IDF(sayur,d2): 5.88\n",
            "TF-IDF(hijau,d2): 2.6\n",
            "TF-IDF(akibat,d2): 0.0\n",
            "TF-IDF(sehat,d2): 0.0\n",
            "TF-IDF(rentan,d2): 0.0\n",
            "TF-IDF(kena,d2): 0.0\n",
            "TF-IDF(sakit,d2): 0.0\n",
            "TF-IDF(derita,d2): 0.0\n",
            "TF-IDF(anemia,d2): 0.0\n",
            "TF-IDF(kurang,d2): 1.17\n",
            "TF-IDF(darah,d2): 0.0\n",
            "TF-IDF(serat,d2): 0.0\n",
            "TF-IDF(mudah,d2): 0.0\n",
            "TF-IDF(alami,d2): 0.0\n",
            "TF-IDF(sembelit,d2): 0.0\n",
            "TF-IDF(jarang,d2): 0.0\n",
            "TF-IDF(konsumsi,d2): 2.6\n",
            "TF-IDF(bahaya,d2): 0.0\n",
            "TF-IDF(tubuh,d2): 0.0\n",
            "TF-IDF(masak,d2): 8.45\n",
            "TF-IDF(cuci,d2): 1.0\n",
            "TF-IDF(potong,d2): 2.6\n",
            "TF-IDF(selera,d2): 1.0\n",
            "TF-IDF(kandung,d2): 1.0\n",
            "TF-IDF(zat,d2): 1.0\n",
            "TF-IDF(gizi,d2): 1.0\n"
          ],
          "name": "stdout"
        }
      ]
    },
    {
      "cell_type": "code",
      "metadata": {
        "id": "LWW879hkpdua",
        "colab": {
          "base_uri": "https://localhost:8080/",
          "height": 54
        },
        "outputId": "0f7b4510-41e8-49ba-8235-a5465e87d8e6"
      },
      "source": [
        "#Maka d1 akan direpresentasikan dengan vector\n",
        "vectord1 = tfidfalld1_sayur, tfidfalld1_hijau, tfidfalld1_akibat, tfidfalld1_sehat, tfidfalld1_rentan, tfidfalld1_kena, tfidfalld1_sakit, tfidfalld1_derita, tfidfalld1_anemia, tfidfalld1_kurang, tfidfalld1_darah, tfidfalld1_serat, tfidfalld1_mudah, tfidfalld1_alami, tfidfalld1_sembelit, tfidfalld1_jarang, tfidfalld1_konsumsi, tfidfalld1_bahaya, tfidfalld1_tubuh, tfidfalld1_masak, tfidfalld1_cuci, tfidfalld1_potong, tfidfalld1_selera, tfidfalld1_kandung, tfidfalld1_zat, tfidfalld1_gizi\n",
        "print (\"Vector d1 : \",vectord1)\n",
        "#Maka d2 akan direpresentasikan dengan vector\n",
        "vectord2 = tfidfalld2_sayur, tfidfalld2_hijau, tfidfalld2_akibat, tfidfalld2_sehat, tfidfalld2_rentan, tfidfalld2_kena, tfidfalld2_sakit, tfidfalld2_derita, tfidfalld2_anemia, tfidfalld2_kurang, tfidfalld2_darah, tfidfalld2_serat, tfidfalld2_mudah, tfidfalld2_alami, tfidfalld2_sembelit, tfidfalld2_jarang, tfidfalld2_konsumsi, tfidfalld2_bahaya, tfidfalld2_tubuh, tfidfalld2_masak, tfidfalld2_cuci, tfidfalld2_potong, tfidfalld2_selera, tfidfalld2_kandung, tfidfalld2_zat, tfidfalld2_gizi\n",
        "print (\"Vector d2 : \",vectord2)"
      ],
      "execution_count": null,
      "outputs": [
        {
          "output_type": "stream",
          "text": [
            "Vector d1 :  (2.94, 2.6, 1.0, 1.0, 1.0, 1.0, 1.0, 1.0, 1.0, 2.34, 1.0, 1.0, 1.0, 1.0, 1.0, 2.6, 2.6, 1.0, 1.0, 0.0, 0.0, 0.0, 0.0, 0.0, 0.0, 0.0)\n",
            "Vector d2 :  (5.88, 2.6, 0.0, 0.0, 0.0, 0.0, 0.0, 0.0, 0.0, 1.17, 0.0, 0.0, 0.0, 0.0, 0.0, 0.0, 2.6, 0.0, 0.0, 8.45, 1.0, 2.6, 1.0, 1.0, 1.0, 1.0)\n"
          ],
          "name": "stdout"
        }
      ]
    },
    {
      "cell_type": "markdown",
      "metadata": {
        "id": "ExTpgdRMUihY"
      },
      "source": [
        "**N-grams**"
      ]
    },
    {
      "cell_type": "markdown",
      "metadata": {
        "id": "1j3LmHAbaYUO"
      },
      "source": [
        "N-grams dari BOW dokumen 1"
      ]
    },
    {
      "cell_type": "code",
      "metadata": {
        "id": "xc7YU_LhtlKe"
      },
      "source": [
        "from nltk import ngrams"
      ],
      "execution_count": null,
      "outputs": []
    },
    {
      "cell_type": "code",
      "metadata": {
        "id": "7yKefKDRUktR",
        "colab": {
          "base_uri": "https://localhost:8080/",
          "height": 353
        },
        "outputId": "42679f1d-b27d-4dcd-e852-510a5db6bd64"
      },
      "source": [
        "#membuat unigrams\n",
        "dokumen1 = 'sayur hijau akibat sehat rentan kena sakit derita anemia kurang darah serat mudah alami sembelit jarang konsumsi bahaya'\n",
        "#memisahkan dokumen perkata, jika ingin unigrams maka nilai n =1, jika bigrams nilai n=2, jika trigrams nilai n=3. dan seterusnya\n",
        "ngram = ngrams(dokumen1.split(' '), n=1)\n",
        "for x in ngram:\n",
        "    print(x)"
      ],
      "execution_count": null,
      "outputs": [
        {
          "output_type": "stream",
          "text": [
            "('sayur',)\n",
            "('hijau',)\n",
            "('akibat',)\n",
            "('sehat',)\n",
            "('rentan',)\n",
            "('kena',)\n",
            "('sakit',)\n",
            "('derita',)\n",
            "('anemia',)\n",
            "('kurang',)\n",
            "('darah',)\n",
            "('serat',)\n",
            "('mudah',)\n",
            "('alami',)\n",
            "('sembelit',)\n",
            "('jarang',)\n",
            "('konsumsi',)\n",
            "('bahaya',)\n"
          ],
          "name": "stdout"
        }
      ]
    },
    {
      "cell_type": "code",
      "metadata": {
        "id": "5wQjFNFkZkz5",
        "colab": {
          "base_uri": "https://localhost:8080/",
          "height": 335
        },
        "outputId": "ac094d6f-4ae7-49b6-e8fa-5bf84b1bbbcf"
      },
      "source": [
        "#membuat bigrams\n",
        "bigrams = ngrams(dokumen1.split(' '), n=2)\n",
        "for y in bigrams:\n",
        "    print(y)"
      ],
      "execution_count": null,
      "outputs": [
        {
          "output_type": "stream",
          "text": [
            "('sayur', 'hijau')\n",
            "('hijau', 'akibat')\n",
            "('akibat', 'sehat')\n",
            "('sehat', 'rentan')\n",
            "('rentan', 'kena')\n",
            "('kena', 'sakit')\n",
            "('sakit', 'derita')\n",
            "('derita', 'anemia')\n",
            "('anemia', 'kurang')\n",
            "('kurang', 'darah')\n",
            "('darah', 'serat')\n",
            "('serat', 'mudah')\n",
            "('mudah', 'alami')\n",
            "('alami', 'sembelit')\n",
            "('sembelit', 'jarang')\n",
            "('jarang', 'konsumsi')\n",
            "('konsumsi', 'bahaya')\n"
          ],
          "name": "stdout"
        }
      ]
    },
    {
      "cell_type": "code",
      "metadata": {
        "id": "B2JURyzut1nZ",
        "colab": {
          "base_uri": "https://localhost:8080/",
          "height": 316
        },
        "outputId": "681e9123-a795-40c3-d09b-31c76b7b03bf"
      },
      "source": [
        "#membuat trigrams\n",
        "bigrams = ngrams(dokumen1.split(' '), n=3)\n",
        "for y in bigrams:\n",
        "    print(y)"
      ],
      "execution_count": null,
      "outputs": [
        {
          "output_type": "stream",
          "text": [
            "('sayur', 'hijau', 'akibat')\n",
            "('hijau', 'akibat', 'sehat')\n",
            "('akibat', 'sehat', 'rentan')\n",
            "('sehat', 'rentan', 'kena')\n",
            "('rentan', 'kena', 'sakit')\n",
            "('kena', 'sakit', 'derita')\n",
            "('sakit', 'derita', 'anemia')\n",
            "('derita', 'anemia', 'kurang')\n",
            "('anemia', 'kurang', 'darah')\n",
            "('kurang', 'darah', 'serat')\n",
            "('darah', 'serat', 'mudah')\n",
            "('serat', 'mudah', 'alami')\n",
            "('mudah', 'alami', 'sembelit')\n",
            "('alami', 'sembelit', 'jarang')\n",
            "('sembelit', 'jarang', 'konsumsi')\n",
            "('jarang', 'konsumsi', 'bahaya')\n"
          ],
          "name": "stdout"
        }
      ]
    },
    {
      "cell_type": "markdown",
      "metadata": {
        "id": "9JPGpb0fuGDF"
      },
      "source": [
        "N-grams dari BOW dokumen 2"
      ]
    },
    {
      "cell_type": "code",
      "metadata": {
        "id": "qldmyqoXuDq3",
        "colab": {
          "base_uri": "https://localhost:8080/",
          "height": 353
        },
        "outputId": "d9f1f130-c361-453b-8c71-bea7bc38bfe9"
      },
      "source": [
        "#membuat unigrams\n",
        "dokumen2 = 'hijau masak sayur cuci potong selera kandung zat gizi kurang'\n",
        "ngram = ngrams(dokumen1.split(' '), n=1)\n",
        "for x in ngram:\n",
        "    print(x)"
      ],
      "execution_count": null,
      "outputs": [
        {
          "output_type": "stream",
          "text": [
            "('sayur',)\n",
            "('hijau',)\n",
            "('akibat',)\n",
            "('sehat',)\n",
            "('rentan',)\n",
            "('kena',)\n",
            "('sakit',)\n",
            "('derita',)\n",
            "('anemia',)\n",
            "('kurang',)\n",
            "('darah',)\n",
            "('serat',)\n",
            "('mudah',)\n",
            "('alami',)\n",
            "('sembelit',)\n",
            "('jarang',)\n",
            "('konsumsi',)\n",
            "('bahaya',)\n"
          ],
          "name": "stdout"
        }
      ]
    },
    {
      "cell_type": "code",
      "metadata": {
        "id": "OdYoWDvgDGt9",
        "colab": {
          "base_uri": "https://localhost:8080/",
          "height": 335
        },
        "outputId": "690d1f0e-aef1-4716-a088-de54c37247f4"
      },
      "source": [
        "#membuat bigrams\n",
        "dokumen2 = 'hijau masak sayur cuci potong selera kandung zat gizi kurang'\n",
        "ngram = ngrams(dokumen1.split(' '), n=2)\n",
        "for x in ngram:\n",
        "    print(x)"
      ],
      "execution_count": null,
      "outputs": [
        {
          "output_type": "stream",
          "text": [
            "('sayur', 'hijau')\n",
            "('hijau', 'akibat')\n",
            "('akibat', 'sehat')\n",
            "('sehat', 'rentan')\n",
            "('rentan', 'kena')\n",
            "('kena', 'sakit')\n",
            "('sakit', 'derita')\n",
            "('derita', 'anemia')\n",
            "('anemia', 'kurang')\n",
            "('kurang', 'darah')\n",
            "('darah', 'serat')\n",
            "('serat', 'mudah')\n",
            "('mudah', 'alami')\n",
            "('alami', 'sembelit')\n",
            "('sembelit', 'jarang')\n",
            "('jarang', 'konsumsi')\n",
            "('konsumsi', 'bahaya')\n"
          ],
          "name": "stdout"
        }
      ]
    },
    {
      "cell_type": "code",
      "metadata": {
        "id": "yeM_05gnDJqo",
        "colab": {
          "base_uri": "https://localhost:8080/",
          "height": 316
        },
        "outputId": "2812b0e1-bb01-4f41-c20c-c25a47c89dfb"
      },
      "source": [
        "#membuat trigrams\n",
        "dokumen2 = 'hijau masak sayur cuci potong selera kandung zat gizi kurang'\n",
        "ngram = ngrams(dokumen1.split(' '), n=3)\n",
        "for x in ngram:\n",
        "    print(x)"
      ],
      "execution_count": null,
      "outputs": [
        {
          "output_type": "stream",
          "text": [
            "('sayur', 'hijau', 'akibat')\n",
            "('hijau', 'akibat', 'sehat')\n",
            "('akibat', 'sehat', 'rentan')\n",
            "('sehat', 'rentan', 'kena')\n",
            "('rentan', 'kena', 'sakit')\n",
            "('kena', 'sakit', 'derita')\n",
            "('sakit', 'derita', 'anemia')\n",
            "('derita', 'anemia', 'kurang')\n",
            "('anemia', 'kurang', 'darah')\n",
            "('kurang', 'darah', 'serat')\n",
            "('darah', 'serat', 'mudah')\n",
            "('serat', 'mudah', 'alami')\n",
            "('mudah', 'alami', 'sembelit')\n",
            "('alami', 'sembelit', 'jarang')\n",
            "('sembelit', 'jarang', 'konsumsi')\n",
            "('jarang', 'konsumsi', 'bahaya')\n"
          ],
          "name": "stdout"
        }
      ]
    },
    {
      "cell_type": "markdown",
      "metadata": {
        "id": "9E9oaiRgfW4f"
      },
      "source": [
        "Ngrams dari BOW All Dokumen"
      ]
    },
    {
      "cell_type": "code",
      "metadata": {
        "id": "lyqYh2GHfedJ",
        "colab": {
          "base_uri": "https://localhost:8080/",
          "height": 503
        },
        "outputId": "6f45c959-5519-46cd-f1a7-a247dd63de74"
      },
      "source": [
        "#membuat unigrams\n",
        "all_dokumen = 'sayur hijau akibat sehat rentan kena sakit derita anemia kurang darah serat mudah alami sembelit jarang konsumsi bahaya tubuh masak cuci potong selera kandung zat gizi'\n",
        "ngram = ngrams(all_dokumen.split(' '), n=1)\n",
        "for x in ngram:\n",
        "    print(x)"
      ],
      "execution_count": null,
      "outputs": [
        {
          "output_type": "stream",
          "text": [
            "('sayur',)\n",
            "('hijau',)\n",
            "('akibat',)\n",
            "('sehat',)\n",
            "('rentan',)\n",
            "('kena',)\n",
            "('sakit',)\n",
            "('derita',)\n",
            "('anemia',)\n",
            "('kurang',)\n",
            "('darah',)\n",
            "('serat',)\n",
            "('mudah',)\n",
            "('alami',)\n",
            "('sembelit',)\n",
            "('jarang',)\n",
            "('konsumsi',)\n",
            "('bahaya',)\n",
            "('tubuh',)\n",
            "('masak',)\n",
            "('cuci',)\n",
            "('potong',)\n",
            "('selera',)\n",
            "('kandung',)\n",
            "('zat',)\n",
            "('gizi',)\n"
          ],
          "name": "stdout"
        }
      ]
    },
    {
      "cell_type": "code",
      "metadata": {
        "id": "Tc3jCKDJh8f_",
        "colab": {
          "base_uri": "https://localhost:8080/",
          "height": 484
        },
        "outputId": "c27ebf74-9067-40dd-abd7-6d73eb931dc3"
      },
      "source": [
        "#membuat bigrams\n",
        "all_dokumen = 'sayur hijau akibat sehat rentan kena sakit derita anemia kurang darah serat mudah alami sembelit jarang konsumsi bahaya tubuh masak cuci potong selera kandung zat gizi'\n",
        "ngram = ngrams(all_dokumen.split(' '), n=2)\n",
        "for x in ngram:\n",
        "    print(x)"
      ],
      "execution_count": null,
      "outputs": [
        {
          "output_type": "stream",
          "text": [
            "('sayur', 'hijau')\n",
            "('hijau', 'akibat')\n",
            "('akibat', 'sehat')\n",
            "('sehat', 'rentan')\n",
            "('rentan', 'kena')\n",
            "('kena', 'sakit')\n",
            "('sakit', 'derita')\n",
            "('derita', 'anemia')\n",
            "('anemia', 'kurang')\n",
            "('kurang', 'darah')\n",
            "('darah', 'serat')\n",
            "('serat', 'mudah')\n",
            "('mudah', 'alami')\n",
            "('alami', 'sembelit')\n",
            "('sembelit', 'jarang')\n",
            "('jarang', 'konsumsi')\n",
            "('konsumsi', 'bahaya')\n",
            "('bahaya', 'tubuh')\n",
            "('tubuh', 'masak')\n",
            "('masak', 'cuci')\n",
            "('cuci', 'potong')\n",
            "('potong', 'selera')\n",
            "('selera', 'kandung')\n",
            "('kandung', 'zat')\n",
            "('zat', 'gizi')\n"
          ],
          "name": "stdout"
        }
      ]
    },
    {
      "cell_type": "code",
      "metadata": {
        "id": "e9Am9gkch-t6",
        "colab": {
          "base_uri": "https://localhost:8080/",
          "height": 465
        },
        "outputId": "2bb4aacb-1b62-4dd3-afc2-8079100d0815"
      },
      "source": [
        "#membuat trigrams\n",
        "all_dokumen = 'sayur hijau akibat sehat rentan kena sakit derita anemia kurang darah serat mudah alami sembelit jarang konsumsi bahaya tubuh masak cuci potong selera kandung zat gizi'\n",
        "ngram = ngrams(all_dokumen.split(' '), n=3)\n",
        "for x in ngram:\n",
        "    print(x)"
      ],
      "execution_count": null,
      "outputs": [
        {
          "output_type": "stream",
          "text": [
            "('sayur', 'hijau', 'akibat')\n",
            "('hijau', 'akibat', 'sehat')\n",
            "('akibat', 'sehat', 'rentan')\n",
            "('sehat', 'rentan', 'kena')\n",
            "('rentan', 'kena', 'sakit')\n",
            "('kena', 'sakit', 'derita')\n",
            "('sakit', 'derita', 'anemia')\n",
            "('derita', 'anemia', 'kurang')\n",
            "('anemia', 'kurang', 'darah')\n",
            "('kurang', 'darah', 'serat')\n",
            "('darah', 'serat', 'mudah')\n",
            "('serat', 'mudah', 'alami')\n",
            "('mudah', 'alami', 'sembelit')\n",
            "('alami', 'sembelit', 'jarang')\n",
            "('sembelit', 'jarang', 'konsumsi')\n",
            "('jarang', 'konsumsi', 'bahaya')\n",
            "('konsumsi', 'bahaya', 'tubuh')\n",
            "('bahaya', 'tubuh', 'masak')\n",
            "('tubuh', 'masak', 'cuci')\n",
            "('masak', 'cuci', 'potong')\n",
            "('cuci', 'potong', 'selera')\n",
            "('potong', 'selera', 'kandung')\n",
            "('selera', 'kandung', 'zat')\n",
            "('kandung', 'zat', 'gizi')\n"
          ],
          "name": "stdout"
        }
      ]
    }
  ]
}